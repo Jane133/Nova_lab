{
  "cells": [
    {
      "cell_type": "markdown",
      "metadata": {
        "id": "PK_pvddDNC7A"
      },
      "source": [
        "# ANOVA  - Lab\n",
        "\n",
        "## Introduction\n",
        "\n",
        "In this lab, you'll get some brief practice generating an ANOVA table (AOV) and interpreting its output. You'll also perform some investigations to compare the method to the t-tests you previously employed to conduct hypothesis testing.\n",
        "\n",
        "## Objectives\n",
        "\n",
        "In this lab you will:\n",
        "\n",
        "- Use ANOVA for testing multiple pairwise comparisons\n",
        "- Interpret results of an ANOVA and compare them to a t-test"
      ]
    },
    {
      "cell_type": "markdown",
      "metadata": {
        "id": "BpABquS-NC7C"
      },
      "source": [
        "## Load the data\n",
        "\n",
        "Start by loading in the data stored in the file `'ToothGrowth.csv'`:"
      ]
    },
    {
      "cell_type": "code",
      "execution_count": 2,
      "metadata": {
        "colab": {
          "base_uri": "https://localhost:8080/",
          "height": 206
        },
        "id": "Tx9CTUpfNC7D",
        "outputId": "24169e5e-ec05-4c35-8617-026fedbd83bb"
      },
      "outputs": [
        {
          "output_type": "execute_result",
          "data": {
            "text/plain": [
              "    len supp  dose\n",
              "0   4.2   VC   0.5\n",
              "1  11.5   VC   0.5\n",
              "2   7.3   VC   0.5\n",
              "3   5.8   VC   0.5\n",
              "4   6.4   VC   0.5"
            ],
            "text/html": [
              "\n",
              "  <div id=\"df-175c87b3-884a-43ad-8eeb-d380b890d33b\" class=\"colab-df-container\">\n",
              "    <div>\n",
              "<style scoped>\n",
              "    .dataframe tbody tr th:only-of-type {\n",
              "        vertical-align: middle;\n",
              "    }\n",
              "\n",
              "    .dataframe tbody tr th {\n",
              "        vertical-align: top;\n",
              "    }\n",
              "\n",
              "    .dataframe thead th {\n",
              "        text-align: right;\n",
              "    }\n",
              "</style>\n",
              "<table border=\"1\" class=\"dataframe\">\n",
              "  <thead>\n",
              "    <tr style=\"text-align: right;\">\n",
              "      <th></th>\n",
              "      <th>len</th>\n",
              "      <th>supp</th>\n",
              "      <th>dose</th>\n",
              "    </tr>\n",
              "  </thead>\n",
              "  <tbody>\n",
              "    <tr>\n",
              "      <th>0</th>\n",
              "      <td>4.2</td>\n",
              "      <td>VC</td>\n",
              "      <td>0.5</td>\n",
              "    </tr>\n",
              "    <tr>\n",
              "      <th>1</th>\n",
              "      <td>11.5</td>\n",
              "      <td>VC</td>\n",
              "      <td>0.5</td>\n",
              "    </tr>\n",
              "    <tr>\n",
              "      <th>2</th>\n",
              "      <td>7.3</td>\n",
              "      <td>VC</td>\n",
              "      <td>0.5</td>\n",
              "    </tr>\n",
              "    <tr>\n",
              "      <th>3</th>\n",
              "      <td>5.8</td>\n",
              "      <td>VC</td>\n",
              "      <td>0.5</td>\n",
              "    </tr>\n",
              "    <tr>\n",
              "      <th>4</th>\n",
              "      <td>6.4</td>\n",
              "      <td>VC</td>\n",
              "      <td>0.5</td>\n",
              "    </tr>\n",
              "  </tbody>\n",
              "</table>\n",
              "</div>\n",
              "    <div class=\"colab-df-buttons\">\n",
              "\n",
              "  <div class=\"colab-df-container\">\n",
              "    <button class=\"colab-df-convert\" onclick=\"convertToInteractive('df-175c87b3-884a-43ad-8eeb-d380b890d33b')\"\n",
              "            title=\"Convert this dataframe to an interactive table.\"\n",
              "            style=\"display:none;\">\n",
              "\n",
              "  <svg xmlns=\"http://www.w3.org/2000/svg\" height=\"24px\" viewBox=\"0 -960 960 960\">\n",
              "    <path d=\"M120-120v-720h720v720H120Zm60-500h600v-160H180v160Zm220 220h160v-160H400v160Zm0 220h160v-160H400v160ZM180-400h160v-160H180v160Zm440 0h160v-160H620v160ZM180-180h160v-160H180v160Zm440 0h160v-160H620v160Z\"/>\n",
              "  </svg>\n",
              "    </button>\n",
              "\n",
              "  <style>\n",
              "    .colab-df-container {\n",
              "      display:flex;\n",
              "      gap: 12px;\n",
              "    }\n",
              "\n",
              "    .colab-df-convert {\n",
              "      background-color: #E8F0FE;\n",
              "      border: none;\n",
              "      border-radius: 50%;\n",
              "      cursor: pointer;\n",
              "      display: none;\n",
              "      fill: #1967D2;\n",
              "      height: 32px;\n",
              "      padding: 0 0 0 0;\n",
              "      width: 32px;\n",
              "    }\n",
              "\n",
              "    .colab-df-convert:hover {\n",
              "      background-color: #E2EBFA;\n",
              "      box-shadow: 0px 1px 2px rgba(60, 64, 67, 0.3), 0px 1px 3px 1px rgba(60, 64, 67, 0.15);\n",
              "      fill: #174EA6;\n",
              "    }\n",
              "\n",
              "    .colab-df-buttons div {\n",
              "      margin-bottom: 4px;\n",
              "    }\n",
              "\n",
              "    [theme=dark] .colab-df-convert {\n",
              "      background-color: #3B4455;\n",
              "      fill: #D2E3FC;\n",
              "    }\n",
              "\n",
              "    [theme=dark] .colab-df-convert:hover {\n",
              "      background-color: #434B5C;\n",
              "      box-shadow: 0px 1px 3px 1px rgba(0, 0, 0, 0.15);\n",
              "      filter: drop-shadow(0px 1px 2px rgba(0, 0, 0, 0.3));\n",
              "      fill: #FFFFFF;\n",
              "    }\n",
              "  </style>\n",
              "\n",
              "    <script>\n",
              "      const buttonEl =\n",
              "        document.querySelector('#df-175c87b3-884a-43ad-8eeb-d380b890d33b button.colab-df-convert');\n",
              "      buttonEl.style.display =\n",
              "        google.colab.kernel.accessAllowed ? 'block' : 'none';\n",
              "\n",
              "      async function convertToInteractive(key) {\n",
              "        const element = document.querySelector('#df-175c87b3-884a-43ad-8eeb-d380b890d33b');\n",
              "        const dataTable =\n",
              "          await google.colab.kernel.invokeFunction('convertToInteractive',\n",
              "                                                    [key], {});\n",
              "        if (!dataTable) return;\n",
              "\n",
              "        const docLinkHtml = 'Like what you see? Visit the ' +\n",
              "          '<a target=\"_blank\" href=https://colab.research.google.com/notebooks/data_table.ipynb>data table notebook</a>'\n",
              "          + ' to learn more about interactive tables.';\n",
              "        element.innerHTML = '';\n",
              "        dataTable['output_type'] = 'display_data';\n",
              "        await google.colab.output.renderOutput(dataTable, element);\n",
              "        const docLink = document.createElement('div');\n",
              "        docLink.innerHTML = docLinkHtml;\n",
              "        element.appendChild(docLink);\n",
              "      }\n",
              "    </script>\n",
              "  </div>\n",
              "\n",
              "\n",
              "<div id=\"df-f1da421f-c8cf-4902-bda9-767c37c98354\">\n",
              "  <button class=\"colab-df-quickchart\" onclick=\"quickchart('df-f1da421f-c8cf-4902-bda9-767c37c98354')\"\n",
              "            title=\"Suggest charts\"\n",
              "            style=\"display:none;\">\n",
              "\n",
              "<svg xmlns=\"http://www.w3.org/2000/svg\" height=\"24px\"viewBox=\"0 0 24 24\"\n",
              "     width=\"24px\">\n",
              "    <g>\n",
              "        <path d=\"M19 3H5c-1.1 0-2 .9-2 2v14c0 1.1.9 2 2 2h14c1.1 0 2-.9 2-2V5c0-1.1-.9-2-2-2zM9 17H7v-7h2v7zm4 0h-2V7h2v10zm4 0h-2v-4h2v4z\"/>\n",
              "    </g>\n",
              "</svg>\n",
              "  </button>\n",
              "\n",
              "<style>\n",
              "  .colab-df-quickchart {\n",
              "      --bg-color: #E8F0FE;\n",
              "      --fill-color: #1967D2;\n",
              "      --hover-bg-color: #E2EBFA;\n",
              "      --hover-fill-color: #174EA6;\n",
              "      --disabled-fill-color: #AAA;\n",
              "      --disabled-bg-color: #DDD;\n",
              "  }\n",
              "\n",
              "  [theme=dark] .colab-df-quickchart {\n",
              "      --bg-color: #3B4455;\n",
              "      --fill-color: #D2E3FC;\n",
              "      --hover-bg-color: #434B5C;\n",
              "      --hover-fill-color: #FFFFFF;\n",
              "      --disabled-bg-color: #3B4455;\n",
              "      --disabled-fill-color: #666;\n",
              "  }\n",
              "\n",
              "  .colab-df-quickchart {\n",
              "    background-color: var(--bg-color);\n",
              "    border: none;\n",
              "    border-radius: 50%;\n",
              "    cursor: pointer;\n",
              "    display: none;\n",
              "    fill: var(--fill-color);\n",
              "    height: 32px;\n",
              "    padding: 0;\n",
              "    width: 32px;\n",
              "  }\n",
              "\n",
              "  .colab-df-quickchart:hover {\n",
              "    background-color: var(--hover-bg-color);\n",
              "    box-shadow: 0 1px 2px rgba(60, 64, 67, 0.3), 0 1px 3px 1px rgba(60, 64, 67, 0.15);\n",
              "    fill: var(--button-hover-fill-color);\n",
              "  }\n",
              "\n",
              "  .colab-df-quickchart-complete:disabled,\n",
              "  .colab-df-quickchart-complete:disabled:hover {\n",
              "    background-color: var(--disabled-bg-color);\n",
              "    fill: var(--disabled-fill-color);\n",
              "    box-shadow: none;\n",
              "  }\n",
              "\n",
              "  .colab-df-spinner {\n",
              "    border: 2px solid var(--fill-color);\n",
              "    border-color: transparent;\n",
              "    border-bottom-color: var(--fill-color);\n",
              "    animation:\n",
              "      spin 1s steps(1) infinite;\n",
              "  }\n",
              "\n",
              "  @keyframes spin {\n",
              "    0% {\n",
              "      border-color: transparent;\n",
              "      border-bottom-color: var(--fill-color);\n",
              "      border-left-color: var(--fill-color);\n",
              "    }\n",
              "    20% {\n",
              "      border-color: transparent;\n",
              "      border-left-color: var(--fill-color);\n",
              "      border-top-color: var(--fill-color);\n",
              "    }\n",
              "    30% {\n",
              "      border-color: transparent;\n",
              "      border-left-color: var(--fill-color);\n",
              "      border-top-color: var(--fill-color);\n",
              "      border-right-color: var(--fill-color);\n",
              "    }\n",
              "    40% {\n",
              "      border-color: transparent;\n",
              "      border-right-color: var(--fill-color);\n",
              "      border-top-color: var(--fill-color);\n",
              "    }\n",
              "    60% {\n",
              "      border-color: transparent;\n",
              "      border-right-color: var(--fill-color);\n",
              "    }\n",
              "    80% {\n",
              "      border-color: transparent;\n",
              "      border-right-color: var(--fill-color);\n",
              "      border-bottom-color: var(--fill-color);\n",
              "    }\n",
              "    90% {\n",
              "      border-color: transparent;\n",
              "      border-bottom-color: var(--fill-color);\n",
              "    }\n",
              "  }\n",
              "</style>\n",
              "\n",
              "  <script>\n",
              "    async function quickchart(key) {\n",
              "      const quickchartButtonEl =\n",
              "        document.querySelector('#' + key + ' button');\n",
              "      quickchartButtonEl.disabled = true;  // To prevent multiple clicks.\n",
              "      quickchartButtonEl.classList.add('colab-df-spinner');\n",
              "      try {\n",
              "        const charts = await google.colab.kernel.invokeFunction(\n",
              "            'suggestCharts', [key], {});\n",
              "      } catch (error) {\n",
              "        console.error('Error during call to suggestCharts:', error);\n",
              "      }\n",
              "      quickchartButtonEl.classList.remove('colab-df-spinner');\n",
              "      quickchartButtonEl.classList.add('colab-df-quickchart-complete');\n",
              "    }\n",
              "    (() => {\n",
              "      let quickchartButtonEl =\n",
              "        document.querySelector('#df-f1da421f-c8cf-4902-bda9-767c37c98354 button');\n",
              "      quickchartButtonEl.style.display =\n",
              "        google.colab.kernel.accessAllowed ? 'block' : 'none';\n",
              "    })();\n",
              "  </script>\n",
              "</div>\n",
              "    </div>\n",
              "  </div>\n"
            ],
            "application/vnd.google.colaboratory.intrinsic+json": {
              "type": "dataframe",
              "variable_name": "df",
              "summary": "{\n  \"name\": \"df\",\n  \"rows\": 60,\n  \"fields\": [\n    {\n      \"column\": \"len\",\n      \"properties\": {\n        \"dtype\": \"number\",\n        \"std\": 7.649315171887616,\n        \"min\": 4.2,\n        \"max\": 33.9,\n        \"num_unique_values\": 43,\n        \"samples\": [\n          22.4,\n          21.5,\n          23.3\n        ],\n        \"semantic_type\": \"\",\n        \"description\": \"\"\n      }\n    },\n    {\n      \"column\": \"supp\",\n      \"properties\": {\n        \"dtype\": \"category\",\n        \"num_unique_values\": 2,\n        \"samples\": [\n          \"OJ\",\n          \"VC\"\n        ],\n        \"semantic_type\": \"\",\n        \"description\": \"\"\n      }\n    },\n    {\n      \"column\": \"dose\",\n      \"properties\": {\n        \"dtype\": \"number\",\n        \"std\": 0.6288721857330792,\n        \"min\": 0.5,\n        \"max\": 2.0,\n        \"num_unique_values\": 3,\n        \"samples\": [\n          0.5,\n          1.0\n        ],\n        \"semantic_type\": \"\",\n        \"description\": \"\"\n      }\n    }\n  ]\n}"
            }
          },
          "metadata": {},
          "execution_count": 2
        }
      ],
      "source": [
        "# Your code here\n",
        "import pandas as pd\n",
        "df = pd.read_csv('ToothGrowth.csv')\n",
        "df.head()"
      ]
    },
    {
      "cell_type": "markdown",
      "metadata": {
        "id": "L9wSZeLoNC7D"
      },
      "source": [
        "## Generate the ANOVA table\n",
        "\n",
        "Now generate an ANOVA table in order to analyze the influence of the medication and dosage:  "
      ]
    },
    {
      "cell_type": "code",
      "execution_count": 3,
      "metadata": {
        "colab": {
          "base_uri": "https://localhost:8080/"
        },
        "id": "5gBt3ybRNC7E",
        "outputId": "3fe7cdc2-7dba-437a-94f9-bb130300c1d7"
      },
      "outputs": [
        {
          "output_type": "stream",
          "name": "stdout",
          "text": [
            "               sum_sq    df          F        PR(>F)\n",
            "C(supp)    205.350000   1.0  14.016638  4.292793e-04\n",
            "C(dose)   2426.434333   2.0  82.810935  1.871163e-17\n",
            "Residual   820.425000  56.0        NaN           NaN\n"
          ]
        }
      ],
      "source": [
        "#Your code here\n",
        "import statsmodels.api as sm\n",
        "from statsmodels.formula.api import ols\n",
        "\n",
        "formula = 'len ~ C(supp) + C(dose)'\n",
        "lm = ols(formula, df).fit()\n",
        "table = sm.stats.anova_lm(lm, typ=2)\n",
        "print(table)"
      ]
    },
    {
      "cell_type": "markdown",
      "metadata": {
        "id": "9UOAqo1jNC7E"
      },
      "source": [
        "## Interpret the output\n",
        "\n",
        "Make a brief comment regarding the statistics and the effect of supplement and dosage on tooth length:"
      ]
    },
    {
      "cell_type": "code",
      "execution_count": null,
      "metadata": {
        "id": "X0gxvFi2NC7E"
      },
      "outputs": [],
      "source": [
        "# Your comment here"
      ]
    },
    {
      "cell_type": "markdown",
      "metadata": {
        "id": "s0pX-Y_HNC7E"
      },
      "source": [
        "## Compare to t-tests\n",
        "\n",
        "Now that you've had a chance to generate an ANOVA table, its interesting to compare the results to those from the t-tests you were working with earlier. With that, start by breaking the data into two samples: those given the OJ supplement, and those given the VC supplement. Afterward, you'll conduct a t-test to compare the tooth length of these two different samples:"
      ]
    },
    {
      "cell_type": "code",
      "execution_count": 4,
      "metadata": {
        "id": "kZT3gvfTNC7E"
      },
      "outputs": [],
      "source": [
        "# Your code here\n",
        "oj_lengths = df[df.supp=='OJ']['len']\n",
        "vc_lengths = df[df.supp=='VC']['len']"
      ]
    },
    {
      "cell_type": "markdown",
      "metadata": {
        "id": "8uO7MOx6NC7E"
      },
      "source": [
        "Now run a t-test between these two groups and print the associated two-sided p-value:"
      ]
    },
    {
      "cell_type": "code",
      "execution_count": 5,
      "metadata": {
        "colab": {
          "base_uri": "https://localhost:8080/"
        },
        "id": "mejG5gFHNC7E",
        "outputId": "b15fb599-d302-4a69-e91a-0aae527ab8d7"
      },
      "outputs": [
        {
          "output_type": "execute_result",
          "data": {
            "text/plain": [
              "0.06063450788093387"
            ]
          },
          "metadata": {},
          "execution_count": 5
        }
      ],
      "source": [
        "# Calculate the 2-sided p-value for a t-test comparing the two supplement groups\n",
        "from scipy import stats\n",
        "\n",
        "stats.ttest_ind(oj_lengths, vc_lengths, equal_var=False)[1]\n"
      ]
    },
    {
      "cell_type": "markdown",
      "metadata": {
        "id": "LrzxEvp0NC7E"
      },
      "source": [
        "## A 2-Category ANOVA F-test is equivalent to a 2-tailed t-test!\n",
        "\n",
        "Now, recalculate an ANOVA F-test with only the supplement variable. An ANOVA F-test between two categories is the same as performing a 2-tailed t-test! So, the p-value in the table should be identical to your calculation above.\n",
        "\n",
        "> Note: there may be a small fractional difference (>0.001) between the two values due to a rounding error between implementations."
      ]
    },
    {
      "cell_type": "code",
      "execution_count": 6,
      "metadata": {
        "colab": {
          "base_uri": "https://localhost:8080/"
        },
        "id": "SbzuBT1NNC7F",
        "outputId": "bd8909fd-7009-430a-dc32-2f0bfd3a7a41"
      },
      "outputs": [
        {
          "output_type": "stream",
          "name": "stdout",
          "text": [
            "               sum_sq    df         F    PR(>F)\n",
            "C(supp)    205.350000   1.0  3.668253  0.060393\n",
            "Residual  3246.859333  58.0       NaN       NaN\n"
          ]
        }
      ],
      "source": [
        "\n",
        "# Your code here; conduct an ANOVA F-test of the oj and vc supplement groups.\n",
        "# Compare the p-value to that of the t-test above.\n",
        "# They should match (there may be a tiny fractional difference due to rounding errors in varying implementations)\n",
        "formula = 'len ~ C(supp)'\n",
        "lm = ols(formula, df).fit()\n",
        "table = sm.stats.anova_lm(lm, typ=2)\n",
        "print(table)"
      ]
    },
    {
      "cell_type": "markdown",
      "metadata": {
        "id": "njsWaH9UNC7F"
      },
      "source": [
        "## Run multiple t-tests\n",
        "\n",
        "While the 2-category ANOVA test is identical to a 2-tailed t-test, performing multiple t-tests leads to the multiple comparisons problem. To investigate this, look at the various sample groups you could create from the 2 features:"
      ]
    },
    {
      "cell_type": "code",
      "execution_count": 7,
      "metadata": {
        "colab": {
          "base_uri": "https://localhost:8080/"
        },
        "id": "yWEtLPkvNC7F",
        "outputId": "7c34c459-658d-4ca9-efa1-18104aa0d176"
      },
      "outputs": [
        {
          "output_type": "stream",
          "name": "stdout",
          "text": [
            "('OJ', 0.5)\n",
            "('OJ', 1.0)\n",
            "('OJ', 2.0)\n",
            "('VC', 0.5)\n",
            "('VC', 1.0)\n",
            "('VC', 2.0)\n"
          ]
        }
      ],
      "source": [
        "for group in df.groupby(['supp', 'dose'])['len']:\n",
        "    group_name = group[0]\n",
        "    data = group[1]\n",
        "    print(group_name)"
      ]
    },
    {
      "cell_type": "markdown",
      "metadata": {
        "id": "lUh-IMAUNC7F"
      },
      "source": [
        "While bad practice, examine the effects of calculating multiple t-tests with the various combinations of these. To do this, generate all combinations of the above groups. For each pairwise combination, calculate the p-value of a 2-sided t-test. Print the group combinations and their associated p-value for the two-sided t-test."
      ]
    },
    {
      "cell_type": "code",
      "execution_count": 8,
      "metadata": {
        "colab": {
          "base_uri": "https://localhost:8080/"
        },
        "id": "W4L_xU64NC7F",
        "outputId": "c925c2e3-dab5-4385-c5cb-5c33afd88d61"
      },
      "outputs": [
        {
          "output_type": "stream",
          "name": "stdout",
          "text": [
            "(('OJ', 0.5), ('OJ', 1.0)) 8.784919055161497e-05\n",
            "(('OJ', 0.5), ('OJ', 2.0)) 1.3237838776972294e-06\n",
            "(('OJ', 0.5), ('VC', 0.5)) 0.006358606764096813\n",
            "(('OJ', 0.5), ('VC', 1.0)) 0.04601033257637553\n",
            "(('OJ', 0.5), ('VC', 2.0)) 7.196253524006046e-06\n",
            "(('OJ', 1.0), ('OJ', 2.0)) 0.03919514204624403\n",
            "(('OJ', 1.0), ('VC', 0.5)) 3.655206730325912e-08\n",
            "(('OJ', 1.0), ('VC', 1.0)) 0.0010383758722998827\n",
            "(('OJ', 1.0), ('VC', 2.0)) 0.09652612338267014\n",
            "(('OJ', 2.0), ('VC', 0.5)) 1.3621396478988818e-11\n",
            "(('OJ', 2.0), ('VC', 1.0)) 2.3610742020468435e-07\n",
            "(('OJ', 2.0), ('VC', 2.0)) 0.9638515887233757\n",
            "(('VC', 0.5), ('VC', 1.0)) 6.811017702865016e-07\n",
            "(('VC', 0.5), ('VC', 2.0)) 4.6815774144921284e-08\n",
            "(('VC', 1.0), ('VC', 2.0)) 9.155603056638706e-05\n"
          ]
        }
      ],
      "source": [
        "\n",
        "\n",
        "# Your code here; reuse your t-test code above to calculate the p-value for a 2-sided t-test\n",
        "# for all combinations of the supplement-dose groups listed above.\n",
        "# (Since there isn't a control group, compare each group to every other group.)\n",
        "\n",
        "from itertools import combinations\n",
        "\n",
        "groups = [group[0] for group in df.groupby(['supp', 'dose'])['len']]\n",
        "combos = combinations(groups, 2)\n",
        "for combo in combos:\n",
        "    supp1 = combo[0][0]\n",
        "    dose1 = combo[0][1]\n",
        "    supp2 = combo[1][0]\n",
        "    dose2 = combo[1][1]\n",
        "    sample1 = df[(df.supp == supp1) & (df.dose == dose1)]['len']\n",
        "    sample2 = df[(df.supp == supp2) & (df.dose == dose2)]['len']\n",
        "    p = stats.ttest_ind(sample1, sample2, equal_var=False)[1]\n",
        "    print(combo, p)\n",
        "\n",
        "    # Note that while ANOVA also concluded that all factors were significant,\n",
        "    # these p-values are substantially lower."
      ]
    },
    {
      "cell_type": "markdown",
      "metadata": {
        "id": "teE_tyDXNC7F"
      },
      "source": [
        "## Summary\n",
        "\n",
        "In this lesson, you implemented the ANOVA technique to generalize testing methods to multiple groups and factors."
      ]
    }
  ],
  "metadata": {
    "kernelspec": {
      "display_name": "Python 3",
      "language": "python",
      "name": "python3"
    },
    "language_info": {
      "codemirror_mode": {
        "name": "ipython",
        "version": 3
      },
      "file_extension": ".py",
      "mimetype": "text/x-python",
      "name": "python",
      "nbconvert_exporter": "python",
      "pygments_lexer": "ipython3",
      "version": "3.7.3"
    },
    "colab": {
      "provenance": []
    }
  },
  "nbformat": 4,
  "nbformat_minor": 0
}